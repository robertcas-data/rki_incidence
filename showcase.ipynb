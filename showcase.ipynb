{
 "cells": [
  {
   "cell_type": "markdown",
   "metadata": {},
   "source": [
    "# Setup"
   ]
  },
  {
   "cell_type": "code",
   "execution_count": 14,
   "metadata": {},
   "outputs": [
    {
     "name": "stdout",
     "output_type": "stream",
     "text": [
      "Defaulting to user installation because normal site-packages is not writeable\n",
      "Requirement already satisfied: requests in c:\\users\\caspari\\appdata\\roaming\\python\\python312\\site-packages (2.31.0)\n",
      "Requirement already satisfied: pandas in c:\\users\\caspari\\appdata\\roaming\\python\\python312\\site-packages (2.1.3)\n",
      "Collecting pyiceberg[duckdb]\n",
      "  Using cached pyiceberg-0.6.1-cp312-cp312-win_amd64.whl\n",
      "Requirement already satisfied: charset-normalizer<4,>=2 in c:\\users\\caspari\\appdata\\roaming\\python\\python312\\site-packages (from requests) (3.3.2)\n",
      "Requirement already satisfied: idna<4,>=2.5 in c:\\users\\caspari\\appdata\\roaming\\python\\python312\\site-packages (from requests) (3.6)\n",
      "Requirement already satisfied: urllib3<3,>=1.21.1 in c:\\users\\caspari\\appdata\\roaming\\python\\python312\\site-packages (from requests) (2.1.0)\n",
      "Requirement already satisfied: certifi>=2017.4.17 in c:\\users\\caspari\\appdata\\roaming\\python\\python312\\site-packages (from requests) (2023.11.17)\n",
      "Requirement already satisfied: numpy<2,>=1.26.0 in c:\\users\\caspari\\appdata\\roaming\\python\\python312\\site-packages (from pandas) (1.26.2)\n",
      "Requirement already satisfied: python-dateutil>=2.8.2 in c:\\users\\caspari\\appdata\\roaming\\python\\python312\\site-packages (from pandas) (2.8.2)\n",
      "Requirement already satisfied: pytz>=2020.1 in c:\\users\\caspari\\appdata\\roaming\\python\\python312\\site-packages (from pandas) (2023.3.post1)\n",
      "Requirement already satisfied: tzdata>=2022.1 in c:\\users\\caspari\\appdata\\roaming\\python\\python312\\site-packages (from pandas) (2023.3)\n",
      "Collecting click<9.0.0,>=7.1.1 (from pyiceberg[duckdb])\n",
      "  Using cached click-8.1.7-py3-none-any.whl.metadata (3.0 kB)\n",
      "Requirement already satisfied: duckdb<1.0.0,>=0.5.0 in c:\\users\\caspari\\appdata\\roaming\\python\\python312\\site-packages (from pyiceberg[duckdb]) (0.10.1)\n",
      "Collecting fsspec<2024.1.0,>=2023.1.0 (from pyiceberg[duckdb])\n",
      "  Using cached fsspec-2023.12.2-py3-none-any.whl.metadata (6.8 kB)\n",
      "Collecting mmhash3<4.0.0,>=3.0.0 (from pyiceberg[duckdb])\n",
      "  Using cached mmhash3-3.0.1.tar.gz (11 kB)\n",
      "  Installing build dependencies: started\n",
      "  Installing build dependencies: finished with status 'done'\n",
      "  Getting requirements to build wheel: started\n",
      "  Getting requirements to build wheel: finished with status 'done'\n",
      "  Installing backend dependencies: started\n",
      "  Installing backend dependencies: finished with status 'done'\n",
      "  Preparing metadata (pyproject.toml): started\n",
      "  Preparing metadata (pyproject.toml): finished with status 'done'\n",
      "Requirement already satisfied: pyarrow<16.0.0,>=9.0.0 in c:\\users\\caspari\\appdata\\roaming\\python\\python312\\site-packages (from pyiceberg[duckdb]) (15.0.2)\n",
      "Collecting pydantic!=2.4.0,!=2.4.1,<3.0,>=2.0 (from pyiceberg[duckdb])\n",
      "  Using cached pydantic-2.7.1-py3-none-any.whl.metadata (107 kB)\n",
      "Requirement already satisfied: pyparsing<4.0.0,>=3.1.0 in c:\\users\\caspari\\appdata\\roaming\\python\\python312\\site-packages (from pyiceberg[duckdb]) (3.1.1)\n",
      "Collecting rich<14.0.0,>=10.11.0 (from pyiceberg[duckdb])\n",
      "  Using cached rich-13.7.1-py3-none-any.whl.metadata (18 kB)\n",
      "Collecting sortedcontainers==2.4.0 (from pyiceberg[duckdb])\n",
      "  Using cached sortedcontainers-2.4.0-py2.py3-none-any.whl.metadata (10 kB)\n",
      "Collecting strictyaml<2.0.0,>=1.7.0 (from pyiceberg[duckdb])\n",
      "  Using cached strictyaml-1.7.3-py3-none-any.whl.metadata (11 kB)\n",
      "Requirement already satisfied: colorama in c:\\users\\caspari\\appdata\\roaming\\python\\python312\\site-packages (from click<9.0.0,>=7.1.1->pyiceberg[duckdb]) (0.4.6)\n",
      "Collecting annotated-types>=0.4.0 (from pydantic!=2.4.0,!=2.4.1,<3.0,>=2.0->pyiceberg[duckdb])\n",
      "  Using cached annotated_types-0.7.0-py3-none-any.whl.metadata (15 kB)\n",
      "Collecting pydantic-core==2.18.2 (from pydantic!=2.4.0,!=2.4.1,<3.0,>=2.0->pyiceberg[duckdb])\n",
      "  Using cached pydantic_core-2.18.2-cp312-none-win_amd64.whl.metadata (6.7 kB)\n",
      "Requirement already satisfied: typing-extensions>=4.6.1 in c:\\users\\caspari\\appdata\\roaming\\python\\python312\\site-packages (from pydantic!=2.4.0,!=2.4.1,<3.0,>=2.0->pyiceberg[duckdb]) (4.8.0)\n",
      "Requirement already satisfied: six>=1.5 in c:\\users\\caspari\\appdata\\roaming\\python\\python312\\site-packages (from python-dateutil>=2.8.2->pandas) (1.16.0)\n",
      "Collecting markdown-it-py>=2.2.0 (from rich<14.0.0,>=10.11.0->pyiceberg[duckdb])\n",
      "  Using cached markdown_it_py-3.0.0-py3-none-any.whl.metadata (6.9 kB)\n",
      "Requirement already satisfied: pygments<3.0.0,>=2.13.0 in c:\\users\\caspari\\appdata\\roaming\\python\\python312\\site-packages (from rich<14.0.0,>=10.11.0->pyiceberg[duckdb]) (2.17.1)\n",
      "Collecting mdurl~=0.1 (from markdown-it-py>=2.2.0->rich<14.0.0,>=10.11.0->pyiceberg[duckdb])\n",
      "  Using cached mdurl-0.1.2-py3-none-any.whl.metadata (1.6 kB)\n",
      "Using cached sortedcontainers-2.4.0-py2.py3-none-any.whl (29 kB)\n",
      "Using cached click-8.1.7-py3-none-any.whl (97 kB)\n",
      "Using cached fsspec-2023.12.2-py3-none-any.whl (168 kB)\n",
      "Using cached pydantic-2.7.1-py3-none-any.whl (409 kB)\n",
      "Using cached pydantic_core-2.18.2-cp312-none-win_amd64.whl (1.9 MB)\n",
      "Using cached rich-13.7.1-py3-none-any.whl (240 kB)\n",
      "Using cached strictyaml-1.7.3-py3-none-any.whl (123 kB)\n",
      "Using cached annotated_types-0.7.0-py3-none-any.whl (13 kB)\n",
      "Using cached markdown_it_py-3.0.0-py3-none-any.whl (87 kB)\n",
      "Using cached mdurl-0.1.2-py3-none-any.whl (10.0 kB)\n",
      "Building wheels for collected packages: mmhash3\n",
      "  Building wheel for mmhash3 (pyproject.toml): started\n",
      "  Building wheel for mmhash3 (pyproject.toml): finished with status 'error'\n",
      "Failed to build mmhash3\n",
      "Note: you may need to restart the kernel to use updated packages.\n"
     ]
    },
    {
     "name": "stderr",
     "output_type": "stream",
     "text": [
      "  error: subprocess-exited-with-error\n",
      "  \n",
      "  × Building wheel for mmhash3 (pyproject.toml) did not run successfully.\n",
      "  │ exit code: 1\n",
      "  ╰─> [5 lines of output]\n",
      "      running bdist_wheel\n",
      "      running build\n",
      "      running build_ext\n",
      "      building 'mmh3' extension\n",
      "      error: Microsoft Visual C++ 14.0 or greater is required. Get it with \"Microsoft C++ Build Tools\": https://visualstudio.microsoft.com/visual-cpp-build-tools/\n",
      "      [end of output]\n",
      "  \n",
      "  note: This error originates from a subprocess, and is likely not a problem with pip.\n",
      "  ERROR: Failed building wheel for mmhash3\n",
      "ERROR: Could not build wheels for mmhash3, which is required to install pyproject.toml-based projects\n"
     ]
    }
   ],
   "source": [
    "pip install requests pandas \"pyiceberg[duckdb]\""
   ]
  },
  {
   "cell_type": "code",
   "execution_count": 15,
   "metadata": {},
   "outputs": [
    {
     "name": "stdout",
     "output_type": "stream",
     "text": [
      "Defaulting to user installation because normal site-packages is not writeable\n",
      "Requirement already satisfied: wheel in c:\\users\\caspari\\appdata\\roaming\\python\\python312\\site-packages (0.43.0)\n",
      "Note: you may need to restart the kernel to use updated packages.\n"
     ]
    }
   ],
   "source": [
    "pip install wheel --upgrade"
   ]
  },
  {
   "cell_type": "code",
   "execution_count": 16,
   "metadata": {},
   "outputs": [],
   "source": [
    "pip install \"pyiceberg[duckdb]\""
   ]
  },
  {
   "cell_type": "code",
   "execution_count": null,
   "metadata": {},
   "outputs": [
    {
     "ename": "ModuleNotFoundError",
     "evalue": "No module named 'pyiceberg'",
     "output_type": "error",
     "traceback": [
      "\u001b[1;31m---------------------------------------------------------------------------\u001b[0m",
      "\u001b[1;31mModuleNotFoundError\u001b[0m                       Traceback (most recent call last)",
      "Cell \u001b[1;32mIn[3], line 7\u001b[0m\n\u001b[0;32m      4\u001b[0m \u001b[38;5;28;01mimport\u001b[39;00m \u001b[38;5;21;01mduckdb\u001b[39;00m\n\u001b[0;32m      5\u001b[0m \u001b[38;5;28;01mimport\u001b[39;00m \u001b[38;5;21;01mrequests\u001b[39;00m\n\u001b[1;32m----> 7\u001b[0m \u001b[38;5;28;01mfrom\u001b[39;00m \u001b[38;5;21;01mpyiceberg\u001b[39;00m\u001b[38;5;21;01m.\u001b[39;00m\u001b[38;5;21;01mcatalog\u001b[39;00m \u001b[38;5;28;01mimport\u001b[39;00m load_catalog\n\u001b[0;32m      8\u001b[0m \u001b[38;5;28;01mfrom\u001b[39;00m \u001b[38;5;21;01mpyiceberg\u001b[39;00m\u001b[38;5;21;01m.\u001b[39;00m\u001b[38;5;21;01mschema\u001b[39;00m \u001b[38;5;28;01mimport\u001b[39;00m Schema\n\u001b[0;32m      9\u001b[0m \u001b[38;5;28;01mfrom\u001b[39;00m \u001b[38;5;21;01mpyiceberg\u001b[39;00m\u001b[38;5;21;01m.\u001b[39;00m\u001b[38;5;21;01mtypes\u001b[39;00m \u001b[38;5;28;01mimport\u001b[39;00m StringType, DoubleType, TimestampType, BooleanType\n",
      "\u001b[1;31mModuleNotFoundError\u001b[0m: No module named 'pyiceberg'"
     ]
    }
   ],
   "source": [
    "import pandas as pd\n",
    "from datetime import datetime\n",
    "import unittest\n",
    "import duckdb\n",
    "import requests\n",
    "\n",
    "from pyiceberg.catalog import load_catalog\n",
    "from pyiceberg.schema import Schema\n",
    "from pyiceberg.types import StringType, DoubleType, TimestampType, BooleanType\n",
    "from pyiceberg.table.metadata import TableMetadata\n",
    "from pyiceberg.table import Table\n",
    "from pyiceberg.io import FileIO"
   ]
  },
  {
   "cell_type": "markdown",
   "metadata": {},
   "source": [
    "# Functions"
   ]
  },
  {
   "cell_type": "code",
   "execution_count": null,
   "metadata": {},
   "outputs": [
    {
     "ename": "NameError",
     "evalue": "name 'Table' is not defined",
     "output_type": "error",
     "traceback": [
      "\u001b[1;31m---------------------------------------------------------------------------\u001b[0m",
      "\u001b[1;31mNameError\u001b[0m                                 Traceback (most recent call last)",
      "Cell \u001b[1;32mIn[12], line 39\u001b[0m\n\u001b[0;32m     36\u001b[0m     table \u001b[38;5;241m=\u001b[39m Table\u001b[38;5;241m.\u001b[39mcreate(\u001b[38;5;124m\"\u001b[39m\u001b[38;5;124mcovid_data.covid_incidence\u001b[39m\u001b[38;5;124m\"\u001b[39m, metadata\u001b[38;5;241m=\u001b[39mmetadata, catalog\u001b[38;5;241m=\u001b[39mcatalog)\n\u001b[0;32m     37\u001b[0m     \u001b[38;5;28;01mreturn\u001b[39;00m table\n\u001b[1;32m---> 39\u001b[0m \u001b[38;5;28;01mdef\u001b[39;00m \u001b[38;5;21minsert_data_to_iceberg\u001b[39m(table: \u001b[43mTable\u001b[49m, df: pd\u001b[38;5;241m.\u001b[39mDataFrame):\n\u001b[0;32m     40\u001b[0m     \u001b[38;5;28;01mfor\u001b[39;00m index, row \u001b[38;5;129;01min\u001b[39;00m df\u001b[38;5;241m.\u001b[39miterrows():\n\u001b[0;32m     41\u001b[0m         existing_data \u001b[38;5;241m=\u001b[39m \u001b[38;5;28mlist\u001b[39m(table\u001b[38;5;241m.\u001b[39mscan()\u001b[38;5;241m.\u001b[39mfilter(\u001b[38;5;124mf\u001b[39m\u001b[38;5;124m\"\u001b[39m\u001b[38;5;124mstate == \u001b[39m\u001b[38;5;124m'\u001b[39m\u001b[38;5;132;01m{\u001b[39;00mrow[\u001b[38;5;124m'\u001b[39m\u001b[38;5;124mstate\u001b[39m\u001b[38;5;124m'\u001b[39m]\u001b[38;5;132;01m}\u001b[39;00m\u001b[38;5;124m'\u001b[39m\u001b[38;5;124m and date == \u001b[39m\u001b[38;5;124m'\u001b[39m\u001b[38;5;132;01m{\u001b[39;00mrow[\u001b[38;5;124m'\u001b[39m\u001b[38;5;124mdate\u001b[39m\u001b[38;5;124m'\u001b[39m]\u001b[38;5;132;01m}\u001b[39;00m\u001b[38;5;124m'\u001b[39m\u001b[38;5;124m and is_current == True\u001b[39m\u001b[38;5;124m\"\u001b[39m))\n",
      "\u001b[1;31mNameError\u001b[0m: name 'Table' is not defined"
     ]
    }
   ],
   "source": [
    "def fetch_covid_data():\n",
    "    url = \"https://api.corona-zahlen.org/states/history/incidence\"\n",
    "    response = requests.get(url)\n",
    "    data = response.json()\n",
    "    \n",
    "    # Extract the relevant data\n",
    "    records = []\n",
    "    for state in data['data']:\n",
    "        for record in data['data'][state]['history']:\n",
    "            records.append({\n",
    "                'state': state,\n",
    "                'date': record['date'],\n",
    "                'incidence': record['weekIncidence']\n",
    "            })\n",
    "    \n",
    "    df = pd.DataFrame(records)\n",
    "    df['date'] = pd.to_datetime(df['date'])\n",
    "    return df\n",
    "\n",
    "def create_duckdb_connection(db_path='covid_data.duckdb'):\n",
    "    conn = duckdb.connect(database=db_path, read_only=False)\n",
    "    return conn\n",
    "\n",
    "def create_iceberg_table():\n",
    "    catalog = load_catalog(\"my_catalog\")  # Configure your catalog\n",
    "    schema = Schema(\n",
    "        StringType().field(\"state\", 1),\n",
    "        TimestampType().field(\"date\", 2),\n",
    "        DoubleType().field(\"incidence\", 3),\n",
    "        TimestampType().field(\"start_date\", 4),\n",
    "        TimestampType().field(\"end_date\", 5),\n",
    "        BooleanType().field(\"is_current\", 6)\n",
    "    )\n",
    "\n",
    "    metadata = TableMetadata(schema=schema)\n",
    "    table = Table.create(\"covid_data.covid_incidence\", metadata=metadata, catalog=catalog)\n",
    "    return table\n",
    "\n",
    "def insert_data_to_iceberg(table: Table, df: pd.DataFrame):\n",
    "    for index, row in df.iterrows():\n",
    "        existing_data = list(table.scan().filter(f\"state == '{row['state']}' and date == '{row['date']}' and is_current == True\"))\n",
    "\n",
    "        if existing_data:\n",
    "            existing_record = existing_data[0]\n",
    "            if existing_record['incidence'] != row['incidence']:\n",
    "                # Update existing record: Set end_date and is_current to False\n",
    "                table.update(existing_record['id'], {'end_date': datetime.utcnow(), 'is_current': False})\n",
    "                \n",
    "                # Insert the new record\n",
    "                table.append({'state': row['state'], 'date': row['date'], 'incidence': row['incidence'], 'start_date': datetime.utcnow(), 'is_current': True})\n",
    "        else:\n",
    "            # Insert the new record if it doesn't exist\n",
    "            table.append({'state': row['state'], 'date': row['date'], 'incidence': row['incidence'], 'start_date': datetime.utcnow(), 'is_current': True})\n",
    "\n",
    "\n",
    "\n",
    "def main():\n",
    "    conn = create_duckdb_connection()\n",
    "    create_iceberg_table(conn)\n",
    "    df = fetch_covid_data()\n",
    "    insert_data_to_iceberg(conn, df)\n",
    "    conn.close()\n",
    "    "
   ]
  },
  {
   "cell_type": "markdown",
   "metadata": {},
   "source": [
    "# Main"
   ]
  },
  {
   "cell_type": "code",
   "execution_count": null,
   "metadata": {},
   "outputs": [
    {
     "ename": "ParserException",
     "evalue": "Parser Error: syntax error at or near \"USING\"",
     "output_type": "error",
     "traceback": [
      "\u001b[1;31m---------------------------------------------------------------------------\u001b[0m",
      "\u001b[1;31mParserException\u001b[0m                           Traceback (most recent call last)",
      "Cell \u001b[1;32mIn[8], line 2\u001b[0m\n\u001b[0;32m      1\u001b[0m \u001b[38;5;28;01mif\u001b[39;00m \u001b[38;5;18m__name__\u001b[39m \u001b[38;5;241m==\u001b[39m \u001b[38;5;124m\"\u001b[39m\u001b[38;5;124m__main__\u001b[39m\u001b[38;5;124m\"\u001b[39m:\n\u001b[1;32m----> 2\u001b[0m     \u001b[43mmain\u001b[49m\u001b[43m(\u001b[49m\u001b[43m)\u001b[49m\n",
      "Cell \u001b[1;32mIn[7], line 74\u001b[0m, in \u001b[0;36mmain\u001b[1;34m()\u001b[0m\n\u001b[0;32m     72\u001b[0m \u001b[38;5;28;01mdef\u001b[39;00m \u001b[38;5;21mmain\u001b[39m():\n\u001b[0;32m     73\u001b[0m     conn \u001b[38;5;241m=\u001b[39m create_duckdb_connection()\n\u001b[1;32m---> 74\u001b[0m     \u001b[43mcreate_iceberg_table\u001b[49m\u001b[43m(\u001b[49m\u001b[43mconn\u001b[49m\u001b[43m)\u001b[49m\n\u001b[0;32m     75\u001b[0m     df \u001b[38;5;241m=\u001b[39m fetch_covid_data()\n\u001b[0;32m     76\u001b[0m     insert_data(conn, df)\n",
      "Cell \u001b[1;32mIn[7], line 29\u001b[0m, in \u001b[0;36mcreate_iceberg_table\u001b[1;34m(conn)\u001b[0m\n\u001b[0;32m     24\u001b[0m \u001b[38;5;28;01mdef\u001b[39;00m \u001b[38;5;21mcreate_iceberg_table\u001b[39m(conn):\n\u001b[0;32m     25\u001b[0m     conn\u001b[38;5;241m.\u001b[39mexecute(\u001b[38;5;124m'''\u001b[39m\n\u001b[0;32m     26\u001b[0m \u001b[38;5;124m    CREATE SCHEMA IF NOT EXISTS covid_data;\u001b[39m\n\u001b[0;32m     27\u001b[0m \u001b[38;5;124m    \u001b[39m\u001b[38;5;124m'''\u001b[39m)\n\u001b[1;32m---> 29\u001b[0m     \u001b[43mconn\u001b[49m\u001b[38;5;241;43m.\u001b[39;49m\u001b[43mexecute\u001b[49m\u001b[43m(\u001b[49m\u001b[38;5;124;43m'''\u001b[39;49m\n\u001b[0;32m     30\u001b[0m \u001b[38;5;124;43m    CREATE TABLE IF NOT EXISTS covid_data.covid_incidence (\u001b[39;49m\n\u001b[0;32m     31\u001b[0m \u001b[38;5;124;43m        state VARCHAR,\u001b[39;49m\n\u001b[0;32m     32\u001b[0m \u001b[38;5;124;43m        date DATE,\u001b[39;49m\n\u001b[0;32m     33\u001b[0m \u001b[38;5;124;43m        incidence DOUBLE,\u001b[39;49m\n\u001b[0;32m     34\u001b[0m \u001b[38;5;124;43m        start_date TIMESTAMP,\u001b[39;49m\n\u001b[0;32m     35\u001b[0m \u001b[38;5;124;43m        end_date TIMESTAMP,\u001b[39;49m\n\u001b[0;32m     36\u001b[0m \u001b[38;5;124;43m        is_current BOOLEAN\u001b[39;49m\n\u001b[0;32m     37\u001b[0m \u001b[38;5;124;43m    ) USING iceberg;\u001b[39;49m\n\u001b[0;32m     38\u001b[0m \u001b[38;5;124;43m    \u001b[39;49m\u001b[38;5;124;43m'''\u001b[39;49m\u001b[43m)\u001b[49m\n",
      "\u001b[1;31mParserException\u001b[0m: Parser Error: syntax error at or near \"USING\""
     ]
    }
   ],
   "source": [
    "if __name__ == \"__main__\":\n",
    "    main()\n"
   ]
  },
  {
   "cell_type": "markdown",
   "metadata": {},
   "source": [
    "# Tests"
   ]
  },
  {
   "cell_type": "code",
   "execution_count": null,
   "metadata": {},
   "outputs": [
    {
     "name": "stderr",
     "output_type": "stream",
     "text": [
      ".\n",
      "----------------------------------------------------------------------\n",
      "Ran 1 test in 0.068s\n",
      "\n",
      "OK\n"
     ]
    }
   ],
   "source": [
    "import unittest\n",
    "from unittest.mock import patch\n",
    "import pandas as pd\n",
    "\n",
    "class TestCovidDataFunctions(unittest.TestCase):\n",
    "\n",
    "    @patch('requests.get')\n",
    "    def test_fetch_covid_data(self, mock_get):\n",
    "        mock_response = {\n",
    "            'data': {\n",
    "                'DE-BW': {\n",
    "                    'history': [\n",
    "                        {'date': '2023-05-01T00:00:00Z', 'weekIncidence': 50.0},\n",
    "                        {'date': '2023-05-02T00:00:00Z', 'weekIncidence': 55.0}\n",
    "                    ]\n",
    "                }\n",
    "            }\n",
    "        }\n",
    "        mock_get.return_value.json.return_value = mock_response\n",
    "\n",
    "        expected_df = pd.DataFrame({\n",
    "            'state': ['DE-BW', 'DE-BW'],\n",
    "            'date': [pd.Timestamp('2023-05-01T00:00:00Z'), pd.Timestamp('2023-05-02T00:00:00Z')],\n",
    "            'incidence': [50.0, 55.0]\n",
    "        })\n",
    "\n",
    "        result_df = fetch_covid_data()\n",
    "        pd.testing.assert_frame_equal(result_df, expected_df)\n",
    "\n",
    "if __name__ == \"__main__\":\n",
    "    unittest.main(argv=['first-arg-is-ignored'], exit=False)\n"
   ]
  },
  {
   "cell_type": "markdown",
   "metadata": {},
   "source": [
    "# Backup"
   ]
  },
  {
   "cell_type": "code",
   "execution_count": null,
   "metadata": {
    "vscode": {
     "languageId": "shellscript"
    }
   },
   "outputs": [
    {
     "data": {
      "text/plain": [
       "1"
      ]
     },
     "execution_count": 1,
     "metadata": {},
     "output_type": "execute_result"
    }
   ],
   "source": [
    "# crontab -e\n",
    "# 0 0 * * * /usr/bin/python3 ./showcase2.ipynb"
   ]
  }
 ],
 "metadata": {
  "kernelspec": {
   "display_name": "Python 3",
   "language": "python",
   "name": "python3"
  },
  "language_info": {
   "codemirror_mode": {
    "name": "ipython",
    "version": 3
   },
   "file_extension": ".py",
   "mimetype": "text/x-python",
   "name": "python",
   "nbconvert_exporter": "python",
   "pygments_lexer": "ipython3",
   "version": "3.12.3"
  }
 },
 "nbformat": 4,
 "nbformat_minor": 2
}
