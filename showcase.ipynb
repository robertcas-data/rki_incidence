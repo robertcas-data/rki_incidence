{
 "cells": [
  {
   "cell_type": "markdown",
   "metadata": {},
   "source": [
    "# Setup"
   ]
  },
  {
   "cell_type": "code",
   "execution_count": null,
   "metadata": {},
   "outputs": [],
   "source": [
    "pip install requests pandas duckdb datetime"
   ]
  },
  {
   "cell_type": "markdown",
   "metadata": {},
   "source": [
    "# Functions"
   ]
  },
  {
   "cell_type": "code",
   "execution_count": 40,
   "metadata": {},
   "outputs": [],
   "source": [
    "import requests\n",
    "import pandas as pd\n",
    "import duckdb\n",
    "import datetime\n",
    "\n",
    "# Schritt 1: Daten von der RKI API abrufen\n",
    "def fetch_covid_data():\n",
    "    url = \"https://api.corona-zahlen.org/states/history/incidence\"\n",
    "    response = requests.get(url)\n",
    "    response.raise_for_status()  # Stellt sicher, dass ein Fehler ausgelöst wird, wenn die Anfrage fehlschlägt\n",
    "    data = response.json()\n",
    "    return data\n",
    "\n",
    "# Schritt 2: Daten in eine Datenbank erfassen\n",
    "def save_data_to_duckdb(data, db_path=\"covid_data.duckdb\"):\n",
    "    # Überprüfen, ob die 'data' und 'states' Schlüssel vorhanden sind\n",
    "    if 'data' not in data:\n",
    "        raise KeyError(\"Key 'data' not found in the API response\")\n",
    "    \n",
    "    # Extrahieren und normalisieren der Daten\n",
    "    states_data = data['data']\n",
    "    records = []\n",
    "    for state, state_data in states_data.items():\n",
    "        history = state_data.get('history', [])\n",
    "        for record in history:\n",
    "            record['state'] = state\n",
    "            records.append(record)\n",
    "    \n",
    "    df = pd.DataFrame(records)\n",
    "    \n",
    "    # Überprüfen, ob die Spalte 'weekIncidence' vorhanden ist\n",
    "    if 'weekIncidence' not in df.columns:\n",
    "        raise KeyError(\"Column 'weekIncidence' not found in the data\")\n",
    "    \n",
    "    # Spalte 'weekIncidence' in 'incidence' umbenennen für Konsistenz\n",
    "    df.rename(columns={'weekIncidence': 'incidence'}, inplace=True)\n",
    "    \n",
    "    # Verbindung zu DuckDB herstellen und Daten speichern\n",
    "    conn = duckdb.connect(database=db_path, read_only=False)\n",
    "    conn.execute(\"CREATE TABLE IF NOT EXISTS covid_incidence (state VARCHAR, date DATE, incidence DOUBLE)\")\n",
    "    conn.register('df_view', df)\n",
    "    conn.execute(\"INSERT INTO covid_incidence SELECT state, date, incidence FROM df_view\")\n",
    "    conn.close()\n",
    "\n",
    "# Schritt 3: Daten normalisieren\n",
    "def normalize_data(db_path=\"covid_data.duckdb\"):\n",
    "    conn = duckdb.connect(database=db_path, read_only=False)\n",
    "    conn.execute(\"\"\"\n",
    "    CREATE TABLE IF NOT EXISTS normalized_covid_incidence AS \n",
    "    SELECT \n",
    "        state, \n",
    "        date, \n",
    "        incidence, \n",
    "        ROW_NUMBER() OVER (PARTITION BY state ORDER BY date) AS row_num \n",
    "    FROM covid_incidence\n",
    "    \"\"\")\n",
    "    conn.close()\n",
    "\n",
    "# Schritt 4: Daten transformieren und bereitstellen (SCD Type 2)\n",
    "def transform_data_scd2(db_path=\"covid_data.duckdb\"):\n",
    "    conn = duckdb.connect(database=db_path, read_only=False)\n",
    "    conn.execute(\"\"\"\n",
    "    CREATE TABLE IF NOT EXISTS scd_covid_incidence (\n",
    "        state VARCHAR, \n",
    "        date DATE, \n",
    "        incidence DOUBLE, \n",
    "        valid_from DATE, \n",
    "        valid_to DATE, \n",
    "        is_current BOOLEAN\n",
    "    )\n",
    "    \"\"\")\n",
    "    # Beende vorherige Einträge\n",
    "    conn.execute(\"\"\"\n",
    "    UPDATE scd_covid_incidence\n",
    "    SET valid_to = current_date - INTERVAL '1' DAY,\n",
    "        is_current = FALSE\n",
    "    WHERE is_current = TRUE\n",
    "    \"\"\")\n",
    "    # Füge neue Einträge hinzu\n",
    "    conn.execute(\"\"\"\n",
    "    INSERT INTO scd_covid_incidence (state, date, incidence, valid_from, valid_to, is_current)\n",
    "    SELECT \n",
    "        state, \n",
    "        date, \n",
    "        incidence, \n",
    "        current_date AS valid_from, \n",
    "        '9999-12-31' AS valid_to, \n",
    "        TRUE AS is_current\n",
    "    FROM normalized_covid_incidence\n",
    "    \"\"\")\n",
    "    conn.close()\n",
    "\n",
    "# Schritt 5: Tests implementieren\n",
    "def run_tests(db_path=\"covid_data.duckdb\"):\n",
    "    conn = duckdb.connect(database=db_path, read_only=False)\n",
    "    # Teste, ob Daten vorhanden sind\n",
    "    results = conn.execute(\"SELECT state, COUNT(*) AS cnt FROM covid_incidence GROUP BY state HAVING cnt > 0\").fetchall()\n",
    "    assert len(results) > 0, \"Test failed: No data found in covid_incidence table\"\n",
    "    print(\"Test passed: Data found in covid_incidence table\")\n",
    "    \n",
    "    # Teste, ob die SCD2 Transformation funktioniert hat\n",
    "    results = conn.execute(\"SELECT state, COUNT(*) AS cnt FROM scd_covid_incidence WHERE is_current = TRUE GROUP BY state HAVING cnt > 0\").fetchall()\n",
    "    assert len(results) > 0, \"Test failed: No current data found in scd_covid_incidence table\"\n",
    "    print(\"Test passed: Current data found in scd_covid_incidence table\")\n",
    "    conn.close()\n",
    "\n",
    "# Hauptfunktion\n",
    "def main():\n",
    "    data = fetch_covid_data()\n",
    "    save_data_to_duckdb(data)\n",
    "    normalize_data()\n",
    "    transform_data_scd2()\n",
    "    run_tests()\n",
    "\n"
   ]
  },
  {
   "cell_type": "markdown",
   "metadata": {},
   "source": [
    "# Main"
   ]
  },
  {
   "cell_type": "code",
   "execution_count": 41,
   "metadata": {},
   "outputs": [
    {
     "name": "stdout",
     "output_type": "stream",
     "text": [
      "Test passed: Data found in covid_incidence table\n",
      "Test passed: Current data found in scd_covid_incidence table\n"
     ]
    }
   ],
   "source": [
    "if __name__ == \"__main__\":\n",
    "    main()"
   ]
  },
  {
   "cell_type": "markdown",
   "metadata": {},
   "source": [
    "# Ad-Hoc Analysis"
   ]
  },
  {
   "cell_type": "code",
   "execution_count": 57,
   "metadata": {},
   "outputs": [
    {
     "name": "stdout",
     "output_type": "stream",
     "text": [
      "┌─────────┬────────────┬────────────────────┬────────────┬────────────┬────────────┐\n",
      "│  state  │    date    │     incidence      │ valid_from │  valid_to  │ is_current │\n",
      "│ varchar │    date    │       double       │    date    │    date    │  boolean   │\n",
      "├─────────┼────────────┼────────────────────┼────────────┼────────────┼────────────┤\n",
      "│ SH      │ 2020-01-07 │                0.0 │ 2024-05-21 │ 9999-12-31 │ true       │\n",
      "│ SH      │ 2020-01-08 │                0.0 │ 2024-05-21 │ 9999-12-31 │ true       │\n",
      "│ SH      │ 2020-01-09 │                0.0 │ 2024-05-21 │ 9999-12-31 │ true       │\n",
      "│ SH      │ 2020-01-10 │                0.0 │ 2024-05-21 │ 9999-12-31 │ true       │\n",
      "│ SH      │ 2020-01-11 │                0.0 │ 2024-05-21 │ 9999-12-31 │ true       │\n",
      "│ SH      │ 2020-01-12 │                0.0 │ 2024-05-21 │ 9999-12-31 │ true       │\n",
      "│ SH      │ 2020-01-13 │                0.0 │ 2024-05-21 │ 9999-12-31 │ true       │\n",
      "│ SH      │ 2020-01-14 │                0.0 │ 2024-05-21 │ 9999-12-31 │ true       │\n",
      "│ SH      │ 2020-01-15 │                0.0 │ 2024-05-21 │ 9999-12-31 │ true       │\n",
      "│ SH      │ 2020-01-16 │                0.0 │ 2024-05-21 │ 9999-12-31 │ true       │\n",
      "│ ·       │     ·      │                 ·  │     ·      │     ·      │  ·         │\n",
      "│ ·       │     ·      │                 ·  │     ·      │     ·      │  ·         │\n",
      "│ ·       │     ·      │                 ·  │     ·      │     ·      │  ·         │\n",
      "│ NW      │ 2024-04-13 │ 0.8201023945260453 │ 2024-05-21 │ 9999-12-31 │ true       │\n",
      "│ NW      │ 2024-04-14 │ 0.8145234666721265 │ 2024-05-21 │ 9999-12-31 │ true       │\n",
      "│ NW      │ 2024-04-15 │ 0.7308395488633465 │ 2024-05-21 │ 9999-12-31 │ true       │\n",
      "│ NW      │ 2024-04-16 │ 0.7587341881329398 │ 2024-05-21 │ 9999-12-31 │ true       │\n",
      "│ NW      │ 2024-04-17 │ 0.7141027653015904 │ 2024-05-21 │ 9999-12-31 │ true       │\n",
      "│ NW      │ 2024-04-18 │ 0.6694713424702411 │ 2024-05-21 │ 9999-12-31 │ true       │\n",
      "│ NW      │ 2024-04-19 │ 0.6917870538859158 │ 2024-05-21 │ 9999-12-31 │ true       │\n",
      "│ NW      │ 2024-04-20 │ 0.6638924146163223 │ 2024-05-21 │ 9999-12-31 │ true       │\n",
      "│ NW      │ 2024-04-21 │ 0.6694713424702411 │ 2024-05-21 │ 9999-12-31 │ true       │\n",
      "│ NW      │ 2024-04-22 │ 0.6304188474928103 │ 2024-05-21 │ 9999-12-31 │ true       │\n",
      "├─────────┴────────────┴────────────────────┴────────────┴────────────┴────────────┤\n",
      "│ ? rows (>9999 rows, 20 shown)                                          6 columns │\n",
      "└──────────────────────────────────────────────────────────────────────────────────┘\n",
      "\n"
     ]
    }
   ],
   "source": [
    "conn = duckdb.connect(database=\"covid_data.duckdb\", read_only=False)\n",
    "conn.sql(\"\"\"\n",
    "    SELECT\n",
    "        state\n",
    "        ,date\n",
    "        ,incidence\n",
    "        ,valid_from\n",
    "        ,valid_to\n",
    "        ,is_current\n",
    "    FROM scd_covid_incidence\n",
    "    WHERE is_current = TRUE\n",
    "    \"\"\").show()"
   ]
  },
  {
   "cell_type": "markdown",
   "metadata": {},
   "source": [
    "# Backup"
   ]
  },
  {
   "cell_type": "code",
   "execution_count": null,
   "metadata": {
    "vscode": {
     "languageId": "shellscript"
    }
   },
   "outputs": [
    {
     "data": {
      "text/plain": [
       "1"
      ]
     },
     "execution_count": 1,
     "metadata": {},
     "output_type": "execute_result"
    }
   ],
   "source": [
    "# crontab -e\n",
    "# 0 0 * * * /usr/bin/python3 ./showcase2.ipynb"
   ]
  }
 ],
 "metadata": {
  "kernelspec": {
   "display_name": "Python 3",
   "language": "python",
   "name": "python3"
  },
  "language_info": {
   "codemirror_mode": {
    "name": "ipython",
    "version": 3
   },
   "file_extension": ".py",
   "mimetype": "text/x-python",
   "name": "python",
   "nbconvert_exporter": "python",
   "pygments_lexer": "ipython3",
   "version": "3.12.0"
  }
 },
 "nbformat": 4,
 "nbformat_minor": 2
}
